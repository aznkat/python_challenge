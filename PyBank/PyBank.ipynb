{
 "cells": [
  {
   "cell_type": "code",
   "execution_count": 134,
   "metadata": {},
   "outputs": [],
   "source": [
    "#Initiate Dependencies\n",
    "import csv\n",
    "import os"
   ]
  },
  {
   "cell_type": "code",
   "execution_count": 135,
   "metadata": {},
   "outputs": [],
   "source": [
    "#Specify the file\n",
    "file = os.path.join('Resources','budget_data.csv')"
   ]
  },
  {
   "cell_type": "code",
   "execution_count": 136,
   "metadata": {},
   "outputs": [],
   "source": [
    "#Open the file to be read and set the contents to list\n",
    "with open(file, newline='') as csvfile:\n",
    "    csvreader = csv.reader(csvfile, delimiter=',')\n",
    "\n",
    "    csv_header = next(csvreader)\n",
    "    \n",
    "    budget_list = list(csvreader)\n",
    "\n",
    "#Count the number of rows in list to get total months\n",
    "#Sum the values in second column to get total profits\n",
    "\n",
    "month = 0\n",
    "total = 0\n",
    "    \n",
    "month = sum(1 for row in budget_list)\n",
    "    \n",
    "total = sum(int(row[1]) for row in budget_list)"
   ]
  },
  {
   "cell_type": "code",
   "execution_count": 137,
   "metadata": {},
   "outputs": [],
   "source": [
    "#Create a new list including only the Profits/Losses\n",
    "budgets = []\n",
    "for row in budget_list:\n",
    "    budgets.append(int(row[1]))"
   ]
  },
  {
   "cell_type": "code",
   "execution_count": 138,
   "metadata": {},
   "outputs": [],
   "source": [
    "#Create a new list using budgets list that takes the difference between the value two rows\n",
    "diff = [j-i for i, j in zip(budgets[:-1], budgets[1:])]\n",
    "\n",
    "#Sum the diff list and then divide by number of values in list to get average Profits/Losses\n",
    "avg_change = round(sum(diff) / float(len(diff)),2)"
   ]
  },
  {
   "cell_type": "code",
   "execution_count": 139,
   "metadata": {},
   "outputs": [],
   "source": [
    "#Append the diff list with 0 for the first value\n",
    "difflist = [0]\n",
    "difflist = difflist + diff"
   ]
  },
  {
   "cell_type": "code",
   "execution_count": 140,
   "metadata": {},
   "outputs": [],
   "source": [
    "#Find the index of the max value in the diff list\n",
    "max_prof = max(difflist)\n",
    "max_pos = difflist.index(max(difflist))"
   ]
  },
  {
   "cell_type": "code",
   "execution_count": 141,
   "metadata": {},
   "outputs": [],
   "source": [
    "#Find the index of the min value in the diff list\n",
    "min_prof = min(difflist)\n",
    "min_pos = difflist.index(min(difflist))"
   ]
  },
  {
   "cell_type": "code",
   "execution_count": 142,
   "metadata": {},
   "outputs": [
    {
     "name": "stdout",
     "output_type": "stream",
     "text": [
      "Financial Analysis\n",
      "----------------------------\n",
      "Total Months: 86\n",
      "Total: 38382578\n",
      "Average change: $-2315.12\n",
      "Greatest increase in profits: Feb-12 ($1926159)\n",
      "Greatest decrease in profits: Sep-13 ($-2196167)\n"
     ]
    }
   ],
   "source": [
    "#Print the findings\n",
    "print(f\"Financial Analysis\")\n",
    "print(f\"----------------------------\")\n",
    "print(f\"Total Months: {month}\")\n",
    "print(f\"Total: {total}\")\n",
    "print(f\"Average change: ${avg_change}\")\n",
    "print(f\"Greatest increase in profits: {budget_list[max_pos][0]} (${difflist[max_pos]})\")\n",
    "print(f\"Greatest decrease in profits: {budget_list[min_pos][0]} (${difflist[min_pos]})\")"
   ]
  },
  {
   "cell_type": "code",
   "execution_count": null,
   "metadata": {},
   "outputs": [],
   "source": []
  }
 ],
 "metadata": {
  "kernelspec": {
   "display_name": "Python 3",
   "language": "python",
   "name": "python3"
  },
  "language_info": {
   "codemirror_mode": {
    "name": "ipython",
    "version": 3
   },
   "file_extension": ".py",
   "mimetype": "text/x-python",
   "name": "python",
   "nbconvert_exporter": "python",
   "pygments_lexer": "ipython3",
   "version": "3.6.5"
  }
 },
 "nbformat": 4,
 "nbformat_minor": 2
}
