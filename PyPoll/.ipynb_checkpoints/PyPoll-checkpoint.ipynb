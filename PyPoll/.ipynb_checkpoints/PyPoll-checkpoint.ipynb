{
 "cells": [
  {
   "cell_type": "code",
   "execution_count": 17,
   "metadata": {},
   "outputs": [],
   "source": [
    "#Initiate Dependencies\n",
    "import csv\n",
    "import os\n",
    "import pandas as pd"
   ]
  },
  {
   "cell_type": "code",
   "execution_count": 4,
   "metadata": {},
   "outputs": [],
   "source": [
    "file = os.path.join('Resources','election_data.csv')"
   ]
  },
  {
   "cell_type": "code",
   "execution_count": 5,
   "metadata": {},
   "outputs": [],
   "source": [
    "with open(file, newline='') as csvfile:\n",
    "    csvreader = csv.reader(csvfile, delimiter=',')\n",
    "\n",
    "    csv_header = next(csvreader)\n",
    "    \n",
    "    election_data = list(csvreader)"
   ]
  },
  {
   "cell_type": "code",
   "execution_count": 6,
   "metadata": {},
   "outputs": [],
   "source": [
    "votes = 0\n",
    "\n",
    "votes = sum(1 for row in election_data)"
   ]
  },
  {
   "cell_type": "code",
   "execution_count": 7,
   "metadata": {},
   "outputs": [
    {
     "name": "stdout",
     "output_type": "stream",
     "text": [
      "Total Votes: 3521001\n"
     ]
    }
   ],
   "source": [
    "print(f\"Total Votes: {votes}\")"
   ]
  },
  {
   "cell_type": "code",
   "execution_count": 8,
   "metadata": {},
   "outputs": [
    {
     "name": "stdout",
     "output_type": "stream",
     "text": [
      "['Khan', 'Correy', 'Li', \"O'Tooley\"]\n"
     ]
    }
   ],
   "source": [
    "candidates = []\n",
    "unique = 0\n",
    "\n",
    "for row in election_data:\n",
    "    if row[2] not in candidates:\n",
    "        candidates.append(row[2])\n",
    "print(candidates)\n",
    "cand_cnt = len(candidates)"
   ]
  },
  {
   "cell_type": "code",
   "execution_count": 9,
   "metadata": {},
   "outputs": [
    {
     "name": "stdout",
     "output_type": "stream",
     "text": [
      "[2218231, 704200, 492940, 105630]\n"
     ]
    }
   ],
   "source": [
    "cand_votes = []\n",
    "\n",
    "cand1 = 0\n",
    "cand2 = 0\n",
    "cand3 = 0\n",
    "cand4 = 0\n",
    "\n",
    "for row in election_data:\n",
    "    if row[2] == candidates[0]:\n",
    "        cand1 += 1\n",
    "    if row[2] == candidates[1]:\n",
    "        cand2 += 1\n",
    "    if row[2] == candidates[2]:\n",
    "        cand3 += 1\n",
    "    if row[2] == candidates[3]:\n",
    "        cand4 += 1\n",
    "\n",
    "cand_votes.append(cand1)\n",
    "cand_votes.append(cand2)\n",
    "cand_votes.append(cand3)\n",
    "cand_votes.append(cand4)\n",
    "print(cand_votes)"
   ]
  },
  {
   "cell_type": "code",
   "execution_count": 59,
   "metadata": {},
   "outputs": [
    {
     "name": "stdout",
     "output_type": "stream",
     "text": [
      "[63.0, 20.0, 14.0, 3.0]\n"
     ]
    }
   ],
   "source": [
    "perc_votes = []\n",
    "\n",
    "for i in range(0,cand_cnt):\n",
    "    perc = round(cand_votes[i]/votes*100,3)\n",
    "    perc_votes.append(perc)\n",
    "print(perc_votes)"
   ]
  },
  {
   "cell_type": "code",
   "execution_count": 51,
   "metadata": {},
   "outputs": [
    {
     "data": {
      "text/plain": [
       "[('Khan', 2218231, 63.0),\n",
       " ('Correy', 704200, 20.0),\n",
       " ('Li', 492940, 14.0),\n",
       " (\"O'Tooley\", 105630, 3.0)]"
      ]
     },
     "execution_count": 51,
     "metadata": {},
     "output_type": "execute_result"
    }
   ],
   "source": [
    "zipped = dict(zip(candidates,cand_votes))\n",
    "winner = max(zipped, key=zipped.get)\n",
    "listzip = list(zip(candidates,cand_votes,perc_votes))\n",
    "listzip"
   ]
  },
  {
   "cell_type": "code",
   "execution_count": 57,
   "metadata": {},
   "outputs": [
    {
     "name": "stdout",
     "output_type": "stream",
     "text": [
      "Election Results:\n",
      "-------------------------\n",
      "Khan: 63.0% (2218231)\n",
      "Correy: 20.0% (704200)\n",
      "Li: 14.0% (492940)\n",
      "O'Tooley: 3.0% (105630)\n",
      "-------------------------\n",
      "Winner: Khan\n",
      "-------------------------\n"
     ]
    }
   ],
   "source": [
    "print(f\"Election Results:\")\n",
    "print(\"-------------------------\")\n",
    "for row in listzip:\n",
    "    print(f\"{row[0]}: {row[2]}% ({row[1]})\")\n",
    "print(\"-------------------------\")\n",
    "print(f\"Winner: {winner}\")\n",
    "print(\"-------------------------\")"
   ]
  },
  {
   "cell_type": "code",
   "execution_count": null,
   "metadata": {},
   "outputs": [],
   "source": []
  }
 ],
 "metadata": {
  "kernelspec": {
   "display_name": "Python 3",
   "language": "python",
   "name": "python3"
  },
  "language_info": {
   "codemirror_mode": {
    "name": "ipython",
    "version": 3
   },
   "file_extension": ".py",
   "mimetype": "text/x-python",
   "name": "python",
   "nbconvert_exporter": "python",
   "pygments_lexer": "ipython3",
   "version": "3.6.5"
  }
 },
 "nbformat": 4,
 "nbformat_minor": 2
}
