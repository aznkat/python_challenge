{
 "cells": [
  {
   "cell_type": "code",
   "execution_count": 61,
   "metadata": {},
   "outputs": [],
   "source": [
    "#Initiate Dependencies\n",
    "import csv\n",
    "import os"
   ]
  },
  {
   "cell_type": "code",
   "execution_count": 62,
   "metadata": {},
   "outputs": [],
   "source": [
    "#Specify the file\n",
    "file = os.path.join('Resources','election_data.csv')"
   ]
  },
  {
   "cell_type": "code",
   "execution_count": 63,
   "metadata": {},
   "outputs": [],
   "source": [
    "#Open the file to be read and set the contents to list\n",
    "with open(file, newline='') as csvfile:\n",
    "    csvreader = csv.reader(csvfile, delimiter=',')\n",
    "\n",
    "    csv_header = next(csvreader)\n",
    "    \n",
    "    election_data = list(csvreader)"
   ]
  },
  {
   "cell_type": "code",
   "execution_count": 64,
   "metadata": {},
   "outputs": [],
   "source": [
    "#Total the votes by counting rows in election data list\n",
    "votes = 0\n",
    "\n",
    "votes = sum(1 for row in election_data)"
   ]
  },
  {
   "cell_type": "code",
   "execution_count": 70,
   "metadata": {},
   "outputs": [],
   "source": [
    "#Find unique candidates and create a list\n",
    "candidates = []\n",
    "\n",
    "for row in election_data:\n",
    "    if row[2] not in candidates:\n",
    "        candidates.append(row[2])\n",
    "cand_cnt = len(candidates)"
   ]
  },
  {
   "cell_type": "code",
   "execution_count": 71,
   "metadata": {},
   "outputs": [],
   "source": [
    "#Count up for each candidate and create a list of vote counts\n",
    "cand_votes = []\n",
    "\n",
    "cand1 = 0\n",
    "cand2 = 0\n",
    "cand3 = 0\n",
    "cand4 = 0\n",
    "\n",
    "for row in election_data:\n",
    "    if row[2] == candidates[0]:\n",
    "        cand1 += 1\n",
    "    if row[2] == candidates[1]:\n",
    "        cand2 += 1\n",
    "    if row[2] == candidates[2]:\n",
    "        cand3 += 1\n",
    "    if row[2] == candidates[3]:\n",
    "        cand4 += 1\n",
    "\n",
    "cand_votes.append(cand1)\n",
    "cand_votes.append(cand2)\n",
    "cand_votes.append(cand3)\n",
    "cand_votes.append(cand4)"
   ]
  },
  {
   "cell_type": "code",
   "execution_count": 72,
   "metadata": {},
   "outputs": [],
   "source": [
    "#Create a list taking the percent of votes\n",
    "perc_votes = []\n",
    "\n",
    "for i in range(0,cand_cnt):\n",
    "    perc = round(cand_votes[i]/votes*100,3)\n",
    "    perc_votes.append(perc)"
   ]
  },
  {
   "cell_type": "code",
   "execution_count": 73,
   "metadata": {},
   "outputs": [],
   "source": [
    "#Zip together all the lists and find the max vote count and index\n",
    "zipped = dict(zip(candidates,cand_votes))\n",
    "winner = max(zipped, key=zipped.get)\n",
    "listzip = list(zip(candidates,cand_votes,perc_votes))"
   ]
  },
  {
   "cell_type": "code",
   "execution_count": 74,
   "metadata": {},
   "outputs": [
    {
     "name": "stdout",
     "output_type": "stream",
     "text": [
      "Election Results:\n",
      "-------------------------\n",
      "Total Votes: 3521001\n",
      "-------------------------\n",
      "Khan: 63.0% (2218231)\n",
      "Correy: 20.0% (704200)\n",
      "Li: 14.0% (492940)\n",
      "O'Tooley: 3.0% (105630)\n",
      "-------------------------\n",
      "Winner: Khan\n",
      "-------------------------\n"
     ]
    }
   ],
   "source": [
    "#Print results\n",
    "print(f\"Election Results:\")\n",
    "print(\"-------------------------\")\n",
    "print(f\"Total Votes: {votes}\")\n",
    "print(\"-------------------------\")\n",
    "for row in listzip:\n",
    "    print(f\"{row[0]}: {row[2]}% ({row[1]})\")\n",
    "print(\"-------------------------\")\n",
    "print(f\"Winner: {winner}\")\n",
    "print(\"-------------------------\")"
   ]
  },
  {
   "cell_type": "code",
   "execution_count": null,
   "metadata": {},
   "outputs": [],
   "source": []
  }
 ],
 "metadata": {
  "kernelspec": {
   "display_name": "Python 3",
   "language": "python",
   "name": "python3"
  },
  "language_info": {
   "codemirror_mode": {
    "name": "ipython",
    "version": 3
   },
   "file_extension": ".py",
   "mimetype": "text/x-python",
   "name": "python",
   "nbconvert_exporter": "python",
   "pygments_lexer": "ipython3",
   "version": "3.6.5"
  }
 },
 "nbformat": 4,
 "nbformat_minor": 2
}
